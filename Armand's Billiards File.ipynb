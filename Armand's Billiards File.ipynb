{
 "metadata": {
  "kernelspec": {
   "display_name": "Python 2",
   "language": "python",
   "name": "python2"
  },
  "language_info": {
   "codemirror_mode": {
    "name": "ipython",
    "version": 2
   },
   "file_extension": ".py",
   "mimetype": "text/x-python",
   "name": "python",
   "nbconvert_exporter": "python",
   "pygments_lexer": "ipython2",
   "version": "2.7.10"
  },
  "name": "",
  "signature": "sha256:4a6b8661a271ce3ad5eb90fc601f5acefd5fc9c2759dbe1945555859d8a63e41"
 },
 "nbformat": 3,
 "nbformat_minor": 0,
 "worksheets": [
  {
   "cells": [
    {
     "cell_type": "code",
     "collapsed": true,
     "input": [
      "import numpy as np\n",
      "import scipy.integrate as integrate\n",
      "import matplotlib.pyplot as plt\n",
      "% matplotlib inline"
     ],
     "language": "python",
     "metadata": {},
     "outputs": [],
     "prompt_number": 2
    },
    {
     "cell_type": "code",
     "collapsed": true,
     "input": [
      "#Tests to see if there is a collision between two pool balls\n",
      "#Input: Position vectors, velocity vectors, timestep dt\n",
      "#Output: True or False\n",
      "R = 2\n",
      "def collision_detection_bb(r1,r2,v1,v2,dt):\n",
      "    r1_f = r1 + v1*dt\n",
      "    r2_f = r2 + v2*dt\n",
      "    \n",
      "    r_f = np.abs(r1_f - r2_f)\n",
      "    r = np.sqrt(np.dot(r_f,r_f))\n",
      "    \n",
      "    if r < 2*R:\n",
      "        return True\n",
      "    else:\n",
      "        return False\n",
      "\n",
      "\n",
      "#Tests to see if there is a pool ball and wall collision\n",
      "#Input: Position vectors, velocity vectors, timestep dt\n",
      "#Output: True or False\n",
      "def collision_detection_bw(r1,v1,dt):\n",
      "    Table_x = 4\n",
      "    Table_y = 10\n",
      "    TABLE_DIM = np.array([4,10])\n",
      "    r1_f = r1 + v1*dt\n",
      "    \n",
      "    \n",
      "    if r1_f[0] < R:\n",
      "        return True\n",
      "    elif r1_f[1] < R:\n",
      "        return True\n",
      "    elif Table_x - r1_f[0] < R:\n",
      "        return True\n",
      "    elif Table_y - r1_f[1] < R:\n",
      "        return True\n",
      "    else:\n",
      "        return False\n"
     ],
     "language": "python",
     "metadata": {},
     "outputs": [],
     "prompt_number": 25
    },
    {
     "cell_type": "code",
     "collapsed": false,
     "input": [],
     "language": "python",
     "metadata": {},
     "outputs": []
    }
   ],
   "metadata": {}
  }
 ]
}